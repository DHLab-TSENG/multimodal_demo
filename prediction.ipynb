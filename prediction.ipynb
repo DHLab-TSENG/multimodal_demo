{
 "cells": [
  {
   "cell_type": "markdown",
   "id": "179e3554-8639-4d8d-bc30-005b9ea16701",
   "metadata": {},
   "source": [
    "## Mortality Prediction"
   ]
  },
  {
   "cell_type": "markdown",
   "id": "6730c8ad-0471-42f7-b1c9-1edfa51e3982",
   "metadata": {},
   "source": [
    "### Import Packages"
   ]
  },
  {
   "cell_type": "code",
   "execution_count": 58,
   "id": "b3bdd877-4991-4360-9078-022d19dabdb1",
   "metadata": {},
   "outputs": [],
   "source": [
    "import sys\n",
    "import warnings\n",
    "sys.path.append(\"../\")\n",
    "warnings.filterwarnings(\"ignore\")\n",
    "\n",
    "import pandas as pd\n",
    "import numpy as np\n",
    "import pickle\n",
    "from data_class import embeddings\n",
    "from sklearn.model_selection import GridSearchCV, train_test_split\n",
    "from sklearn import metrics\n",
    "from sklearn.ensemble import RandomForestClassifier"
   ]
  },
  {
   "cell_type": "markdown",
   "id": "7ab6b021-05f4-4bd2-bac6-905793b90d4d",
   "metadata": {},
   "source": [
    "### Data Loading"
   ]
  },
  {
   "cell_type": "code",
   "execution_count": 59,
   "id": "5f965d08-c01e-4e3b-b5ec-6a7f64b17948",
   "metadata": {},
   "outputs": [
    {
     "name": "stdout",
     "output_type": "stream",
     "text": [
      "       ID  flag\n",
      "0    S000     1\n",
      "1    S001     1\n",
      "2    S002     1\n",
      "3    S003     1\n",
      "4    S004     1\n",
      "..    ...   ...\n",
      "195  S195     0\n",
      "196  S196     0\n",
      "197  S197     0\n",
      "198  S198     0\n",
      "199  S199     0\n",
      "\n",
      "[200 rows x 2 columns]\n"
     ]
    }
   ],
   "source": [
    "expire_flag_df = pd.read_csv(\"./embeddings/flag.csv\")\n",
    "print(expire_flag_df)"
   ]
  },
  {
   "cell_type": "code",
   "execution_count": 60,
   "id": "d38c3eb7-bcd8-4d35-9438-a9143821b1ae",
   "metadata": {},
   "outputs": [],
   "source": [
    "subject_data_list = []\n",
    "for subject_id in expire_flag_df.ID.values:\n",
    "    with open(\"./embeddings/%s.pkl\"%(subject_id), \"rb\") as f:\n",
    "        data = pickle.load(f)\n",
    "    subject_data_list.append(data)"
   ]
  },
  {
   "cell_type": "code",
   "execution_count": 61,
   "id": "776b898b-eb96-4578-8bee-8ffc399d37e0",
   "metadata": {},
   "outputs": [
    {
     "name": "stdout",
     "output_type": "stream",
     "text": [
      "--------------------------------------------------\n",
      "# tabular embeddings: 36\n",
      "    age  gender  ...  red_blood_cells  white_blood_cells\n",
      "0  78.0     1.0  ...             3.28                3.9\n",
      "\n",
      "[1 rows x 36 columns]\n",
      "--------------------------------------------------\n",
      "# timeseries(Vitalsigns) embeddings: 55\n",
      "   heart_rate_max  heart_rate_min  ...  blood_oxygen_npeaks  blood_oxygen_trend\n",
      "0           114.0            72.0  ...                  6.0           -0.060769\n",
      "\n",
      "[1 rows x 55 columns]\n",
      "--------------------------------------------------\n",
      "# signal(ECG) embeddings: 326\n",
      "      1dAVb          RBBB  ...  ecg_dense_318  ecg_dense_319\n",
      "0  0.000176  8.829986e-07  ...            0.0            0.0\n",
      "\n",
      "[1 rows x 326 columns]\n",
      "--------------------------------------------------\n",
      "# image(Chest X-Ray) embeddings: 1042\n",
      "   Atelectasis  Consolidation  ...  cxr_dense_1022  cxr_dense_1023\n",
      "0     0.243355       0.174304  ...        0.002957        0.250387\n",
      "\n",
      "[1 rows x 1042 columns]\n",
      "--------------------------------------------------\n",
      "# note(Chest X-Ray) embeddings: 768\n",
      "   textemb_0  textemb_1  textemb_2  ...  textemb_765  textemb_766  textemb_767\n",
      "0  -0.064195  -0.121633   0.978992  ...     0.998192     0.011237     0.999928\n",
      "\n",
      "[1 rows x 768 columns]\n"
     ]
    }
   ],
   "source": [
    "subject_data = subject_data_list[0]\n",
    "\n",
    "print(\"-\"*50)\n",
    "print(\"# tabular embeddings:\", len(subject_data.tabular_emb))\n",
    "print(subject_data.tabular_emb.to_frame().T)\n",
    "\n",
    "print(\"-\"*50)\n",
    "print(\"# timeseries(Vitalsigns) embeddings:\", len(subject_data.timeseries_emb))\n",
    "print(subject_data.timeseries_emb.to_frame().T)\n",
    "\n",
    "print(\"-\"*50)\n",
    "print(\"# signal(ECG) embeddings:\", len(subject_data.signal_emb))\n",
    "print(subject_data.signal_emb.to_frame().T)\n",
    "\n",
    "print(\"-\"*50)\n",
    "print(\"# image(Chest X-Ray) embeddings:\", len(subject_data.image_emb))\n",
    "print(subject_data.image_emb.to_frame().T)\n",
    "\n",
    "print(\"-\"*50)\n",
    "print(\"# note(Chest X-Ray) embeddings:\", len(subject_data.note_emb))\n",
    "print(subject_data.note_emb.to_frame().T)"
   ]
  },
  {
   "cell_type": "markdown",
   "id": "c4ff4d92-09a3-40ac-9a81-e9363d3db63a",
   "metadata": {},
   "source": [
    "### Read data from different modalities"
   ]
  },
  {
   "cell_type": "code",
   "execution_count": 62,
   "id": "271cbcad-0435-4f8a-bce8-48b592e75596",
   "metadata": {},
   "outputs": [
    {
     "name": "stdout",
     "output_type": "stream",
     "text": [
      "      age  gender  Septicemia  ...  cxr_dense_1021  cxr_dense_1022  cxr_dense_1023\n",
      "0    78.0     1.0         0.0  ...        0.003784        0.002957        0.250387\n",
      "1    66.0     0.0         0.0  ...        0.007224        0.002480        0.006324\n",
      "2    68.0     1.0         0.0  ...        0.003386        0.003358        0.405208\n",
      "3    64.0     0.0         0.0  ...        0.014333        0.012056        0.073979\n",
      "4    61.0     1.0         0.0  ...        0.000000        0.000000        0.058607\n",
      "..    ...     ...         ...  ...             ...             ...             ...\n",
      "195  65.0     0.0         0.0  ...        0.000331        0.009345        0.000195\n",
      "196  43.0     1.0         0.0  ...        0.000000        0.019390        0.000000\n",
      "197  84.0     1.0         0.0  ...        0.002252        0.005291        0.368608\n",
      "198  84.0     1.0         0.0  ...        0.000000        0.017738        0.029614\n",
      "199  83.0     0.0         0.0  ...        0.045845        0.044703        0.000000\n",
      "\n",
      "[200 rows x 2227 columns]\n"
     ]
    }
   ],
   "source": [
    "def get_data(subject_data_list, tabular = True, timeseries = True, signal = True, note = True, image = True):\n",
    "    data = pd.DataFrame()\n",
    "    for subject_data in subject_data_list:\n",
    "        emb_list = []\n",
    "        if tabular:\n",
    "            emb_list.append(subject_data.tabular_emb)\n",
    "        if timeseries:\n",
    "            emb_list.append(subject_data.timeseries_emb)\n",
    "        if signal:\n",
    "            emb_list.append(subject_data.signal_emb)\n",
    "        if note:\n",
    "            emb_list.append(subject_data.note_emb)\n",
    "        if image:\n",
    "            emb_list.append(subject_data.image_emb)\n",
    "    \n",
    "        subject_emb = pd.concat(emb_list, axis = 0)\n",
    "        data = pd.concat([data, subject_emb.to_frame().T] ,ignore_index=True)\n",
    "    return data\n",
    "\n",
    "data = get_data(subject_data_list)\n",
    "print(data)"
   ]
  },
  {
   "cell_type": "markdown",
   "id": "055b421f-8f17-4b0c-8c89-8da9e51f7a44",
   "metadata": {},
   "source": [
    "### Model Training"
   ]
  },
  {
   "cell_type": "code",
   "execution_count": 63,
   "id": "d8c7c3bb-52b7-41b8-ba1a-d6bc09881f2c",
   "metadata": {},
   "outputs": [],
   "source": [
    "def run_model(data):\n",
    "    train_id, test_id = train_test_split(range(len(data)), test_size=0.2, random_state=0)\n",
    "    x_train = data.iloc[train_id].values\n",
    "    y_train = expire_flag_df.iloc[train_id].flag.values\n",
    "    \n",
    "    x_test = data.iloc[test_id].values\n",
    "    y_test = expire_flag_df.iloc[test_id].flag.values\n",
    "\n",
    "    gs_metric = 'roc_auc'\n",
    "    param_grid = {'max_depth': [1,2,3],\n",
    "                  'n_estimators': [10, 20, 30, 40]}\n",
    "    \n",
    "    clf = RandomForestClassifier(random_state=0)\n",
    "    gs = GridSearchCV(estimator = clf, param_grid=param_grid, scoring=gs_metric, cv=5)\n",
    "    gs.fit(x_train, y_train)\n",
    "    \n",
    "    #print(gs.best_params_)\n",
    "    y_pred_prob_train = gs.predict_proba(x_train)\n",
    "    y_pred_train = gs.predict(x_train)\n",
    "    y_pred_prob_test = gs.predict_proba(x_test)\n",
    "    y_pred_test = gs.predict(x_test)\n",
    "    \n",
    "    auc_train =  metrics.roc_auc_score(y_train, y_pred_prob_train[:,1])\n",
    "    print(f'AUC for Training Set is: {auc_train}')\n",
    "    \n",
    "    auc_test =  metrics.roc_auc_score(y_test, y_pred_prob_test[:,1])\n",
    "    print(f'AUC for Testing Set is: {auc_test}')\n",
    "    return auc_train, auc_test"
   ]
  },
  {
   "cell_type": "code",
   "execution_count": 64,
   "id": "26989f3d-8c8a-49e0-a3ec-a607b8142a80",
   "metadata": {},
   "outputs": [
    {
     "name": "stdout",
     "output_type": "stream",
     "text": [
      "Multiple Modalities\n",
      "AUC for Training Set is: 0.8227016885553471\n",
      "AUC for Testing Set is: 0.75\n"
     ]
    }
   ],
   "source": [
    "print(\"Multiple Modalities\")\n",
    "auc_train, auc_test = run_model(data)"
   ]
  },
  {
   "cell_type": "code",
   "execution_count": 65,
   "id": "4fb3186a-82f2-47e1-b161-1d61eebc63fe",
   "metadata": {},
   "outputs": [
    {
     "name": "stdout",
     "output_type": "stream",
     "text": [
      "Tabular Data\n",
      "AUC for Training Set is: 0.940744215134459\n",
      "AUC for Testing Set is: 0.6085858585858587\n"
     ]
    }
   ],
   "source": [
    "print(\"Tabular Data\")\n",
    "tabular_data = get_data(subject_data_list, tabular = True, timeseries = False, signal = False, note = False, image = False)\n",
    "auc_train, auc_test = run_model(tabular_data)"
   ]
  },
  {
   "cell_type": "code",
   "execution_count": 66,
   "id": "005422ff-dc98-44f8-9ba7-933c5e21785a",
   "metadata": {},
   "outputs": [
    {
     "name": "stdout",
     "output_type": "stream",
     "text": [
      "TimeSeries Data\n",
      "AUC for Training Set is: 0.9122889305816135\n",
      "AUC for Testing Set is: 0.7095959595959596\n"
     ]
    }
   ],
   "source": [
    "print(\"TimeSeries Data\")\n",
    "timeseries_data = get_data(subject_data_list, tabular = False, timeseries = True, signal = False, note = False, image = False)\n",
    "auc_train, auc_test = run_model(timeseries_data)"
   ]
  },
  {
   "cell_type": "code",
   "execution_count": 67,
   "id": "f4ef7166-a1d0-4253-8329-c9b32cf3db1f",
   "metadata": {},
   "outputs": [
    {
     "name": "stdout",
     "output_type": "stream",
     "text": [
      "Signal Data\n",
      "AUC for Training Set is: 0.7547686053783615\n",
      "AUC for Testing Set is: 0.5959595959595959\n"
     ]
    }
   ],
   "source": [
    "print(\"Signal Data\")\n",
    "signal_data = get_data(subject_data_list, tabular = False, timeseries = False, signal = True, note = False, image = False)\n",
    "auc_train, auc_test = run_model(signal_data)"
   ]
  },
  {
   "cell_type": "code",
   "execution_count": 68,
   "id": "bbb9ba50-0e41-4bdb-9d48-334889891e7e",
   "metadata": {},
   "outputs": [
    {
     "name": "stdout",
     "output_type": "stream",
     "text": [
      "Note Data\n",
      "AUC for Training Set is: 0.8959505941213258\n",
      "AUC for Testing Set is: 0.601010101010101\n"
     ]
    }
   ],
   "source": [
    "print(\"Note Data\")\n",
    "note_data = get_data(subject_data_list, tabular = False, timeseries = False, signal = False, note = True, image = False)\n",
    "auc_train, auc_test = run_model(note_data)"
   ]
  },
  {
   "cell_type": "code",
   "execution_count": 69,
   "id": "e5b34a70-df35-4c56-801b-f2624f978d3f",
   "metadata": {},
   "outputs": [
    {
     "name": "stdout",
     "output_type": "stream",
     "text": [
      "Image Data\n",
      "AUC for Training Set is: 0.9409787367104441\n",
      "AUC for Testing Set is: 0.6363636363636364\n"
     ]
    }
   ],
   "source": [
    "print(\"Image Data\")\n",
    "image_data = get_data(subject_data_list, tabular = False, timeseries = False, signal = False, note = False, image = True)\n",
    "auc_train, auc_test = run_model(image_data)"
   ]
  }
 ],
 "metadata": {
  "kernelspec": {
   "display_name": "Python 3 (Spyder)",
   "language": "python3",
   "name": "python3"
  },
  "language_info": {
   "codemirror_mode": {
    "name": "ipython",
    "version": 3
   },
   "file_extension": ".py",
   "mimetype": "text/x-python",
   "name": "python",
   "nbconvert_exporter": "python",
   "pygments_lexer": "ipython3",
   "version": "3.11.4"
  }
 },
 "nbformat": 4,
 "nbformat_minor": 5
}
