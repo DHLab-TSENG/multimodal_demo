{
 "cells": [
  {
   "cell_type": "code",
   "execution_count": 1,
   "id": "b3bdd877-4991-4360-9078-022d19dabdb1",
   "metadata": {},
   "outputs": [],
   "source": [
    "import sys\n",
    "import warnings\n",
    "import pandas as pd\n",
    "import numpy as np\n",
    "import pickle\n",
    "from data_class import embeddings\n",
    "from sklearn.model_selection import GridSearchCV, train_test_split\n",
    "from sklearn import metrics\n",
    "from sklearn.ensemble import RandomForestClassifier\n",
    "\n",
    "sys.path.append(\"../\")\n",
    "warnings.filterwarnings(\"ignore\")"
   ]
  },
  {
   "cell_type": "code",
   "execution_count": 2,
   "id": "5f965d08-c01e-4e3b-b5ec-6a7f64b17948",
   "metadata": {},
   "outputs": [
    {
     "name": "stdout",
     "output_type": "stream",
     "text": [
      "       ID  flag\n",
      "0    S000     1\n",
      "1    S001     1\n",
      "2    S002     1\n",
      "3    S003     1\n",
      "4    S004     1\n",
      "..    ...   ...\n",
      "195  S195     0\n",
      "196  S196     0\n",
      "197  S197     0\n",
      "198  S198     0\n",
      "199  S199     0\n",
      "\n",
      "[200 rows x 2 columns]\n"
     ]
    }
   ],
   "source": [
    "expire_flag_df = pd.read_csv(\"./embeddings/flag.csv\")\n",
    "print(expire_flag_df)"
   ]
  },
  {
   "cell_type": "code",
   "execution_count": 3,
   "id": "d38c3eb7-bcd8-4d35-9438-a9143821b1ae",
   "metadata": {},
   "outputs": [],
   "source": [
    "subject_data_list = []\n",
    "for subject_id in expire_flag_df.ID.values:\n",
    "    with open(\"./embeddings/%s.pkl\"%(subject_id), \"rb\") as f:\n",
    "        data = pickle.load(f)\n",
    "    subject_data_list.append(data)"
   ]
  },
  {
   "cell_type": "code",
   "execution_count": 4,
   "id": "776b898b-eb96-4578-8bee-8ffc399d37e0",
   "metadata": {},
   "outputs": [
    {
     "name": "stdout",
     "output_type": "stream",
     "text": [
      "age                                           78.00\n",
      "gender                                         1.00\n",
      "Septicemia                                     0.00\n",
      "Pneumonia                                      0.00\n",
      "Essential_hypertension                         1.00\n",
      "Residual_codes                                 0.00\n",
      "Other_lower_respiratory_disease                0.00\n",
      "Cardiac_dysrhythmias                           0.00\n",
      "Acute_cerebrovascular_disease                  0.00\n",
      "Fluid_and_electrolyte_disorders                0.00\n",
      "Congestive_heart_failure                       0.00\n",
      "Other_circulatory_disease                      0.00\n",
      "E_Codes_Fall                                   0.00\n",
      "E_Codes_unspecified                            0.00\n",
      "Diabetes_mellitus_without_complication         1.00\n",
      "hematocrit                                     0.00\n",
      "anion_gap                                     23.00\n",
      "bicarbonate                                   14.00\n",
      "total_calcium                                  8.00\n",
      "chloride                                     101.00\n",
      "creatinine                                     0.80\n",
      "glucose                                      289.00\n",
      "magnesium                                      2.20\n",
      "phosphate                                      3.20\n",
      "potassium                                      5.70\n",
      "sodium                                       132.00\n",
      "urea_nitrogen                                 31.00\n",
      "hemoglobin                                    10.10\n",
      "mean_corpuscular_hemoglobin                   30.90\n",
      "mean_corpuscular_hemoglobin_concentration     32.20\n",
      "mean_corpuscular_volume                       96.00\n",
      "neutrophils                                   65.30\n",
      "platelet_count                                21.00\n",
      "red_blood_cell_distribution_width             20.20\n",
      "red_blood_cells                                3.28\n",
      "white_blood_cells                              3.90\n",
      "dtype: float64\n"
     ]
    }
   ],
   "source": [
    "subject_data = subject_data_list[0]\n",
    "print(subject_data.tabular_emb)"
   ]
  },
  {
   "cell_type": "code",
   "execution_count": 5,
   "id": "271cbcad-0435-4f8a-bce8-48b592e75596",
   "metadata": {},
   "outputs": [
    {
     "name": "stdout",
     "output_type": "stream",
     "text": [
      "      age  gender  Septicemia  ...  cxr_dense_1021  cxr_dense_1022  cxr_dense_1023\n",
      "0    78.0     1.0         0.0  ...        0.003784        0.002957        0.250387\n",
      "1    66.0     0.0         0.0  ...        0.007224        0.002480        0.006324\n",
      "2    68.0     1.0         0.0  ...        0.003386        0.003358        0.405208\n",
      "3    64.0     0.0         0.0  ...        0.014333        0.012056        0.073979\n",
      "4    61.0     1.0         0.0  ...        0.000000        0.000000        0.058607\n",
      "..    ...     ...         ...  ...             ...             ...             ...\n",
      "195  65.0     0.0         0.0  ...        0.000331        0.009345        0.000195\n",
      "196  43.0     1.0         0.0  ...        0.000000        0.019390        0.000000\n",
      "197  84.0     1.0         0.0  ...        0.002252        0.005291        0.368608\n",
      "198  84.0     1.0         0.0  ...        0.000000        0.017738        0.029614\n",
      "199  83.0     0.0         0.0  ...        0.045845        0.044703        0.000000\n",
      "\n",
      "[200 rows x 2227 columns]\n"
     ]
    }
   ],
   "source": [
    "def get_data(subject_data_list, tabular = True, timeseries = True, signal = True, note = True, image = True):\n",
    "    data = pd.DataFrame()\n",
    "    for subject_data in subject_data_list:\n",
    "        emb_list = []\n",
    "        if tabular:\n",
    "            emb_list.append(subject_data.tabular_emb)\n",
    "        if timeseries:\n",
    "            emb_list.append(subject_data.timeseries_emb)\n",
    "        if signal:\n",
    "            emb_list.append(subject_data.signal_emb)\n",
    "        if note:\n",
    "            emb_list.append(subject_data.note_emb)\n",
    "        if image:\n",
    "            emb_list.append(subject_data.image_emb)\n",
    "    \n",
    "        subject_emb = pd.concat(emb_list, axis = 0)\n",
    "        data = pd.concat([data, subject_emb.to_frame().T] ,ignore_index=True)\n",
    "    return data\n",
    "\n",
    "\n",
    "data = get_data(subject_data_list)\n",
    "print(data)"
   ]
  },
  {
   "cell_type": "code",
   "execution_count": 18,
   "id": "d8c7c3bb-52b7-41b8-ba1a-d6bc09881f2c",
   "metadata": {},
   "outputs": [],
   "source": [
    "def run_model(data):\n",
    "    train_id, test_id = train_test_split(range(len(data)), test_size=0.2, random_state=0)\n",
    "    x_train = data.iloc[train_id].values\n",
    "    x_train[np.isnan(x_train)] = 0\n",
    "    y_train = expire_flag_df.iloc[train_id].flag.values\n",
    "    \n",
    "    x_test = data.iloc[test_id].values\n",
    "    x_test[np.isnan(x_test)] = 0\n",
    "    y_test = expire_flag_df.iloc[test_id].flag.values\n",
    "\n",
    "    gs_metric = 'roc_auc'\n",
    "    param_grid = {'max_depth': [1,2,3],\n",
    "                  'n_estimators': [10, 20, 30, 40]}\n",
    "    \n",
    "    clf = RandomForestClassifier(random_state=0)\n",
    "    gs = GridSearchCV(estimator = clf, param_grid=param_grid, scoring=gs_metric, cv=5)\n",
    "    gs.fit(x_train, y_train)\n",
    "    \n",
    "    #print(gs.best_params_)\n",
    "    y_pred_prob_train = gs.predict_proba(x_train)\n",
    "    y_pred_train = gs.predict(x_train)\n",
    "    y_pred_prob_test = gs.predict_proba(x_test)\n",
    "    y_pred_test = gs.predict(x_test)\n",
    "    \n",
    "    auc_train =  metrics.roc_auc_score(y_train, y_pred_prob_train[:,1])\n",
    "    print(f'AUC for Training Set is: {auc_train}')\n",
    "    \n",
    "    auc_test =  metrics.roc_auc_score(y_test, y_pred_prob_test[:,1])\n",
    "    print(f'AUC for Testing Set is: {auc_test}')\n",
    "    return auc_train, auc_test"
   ]
  },
  {
   "cell_type": "code",
   "execution_count": 12,
   "id": "26989f3d-8c8a-49e0-a3ec-a607b8142a80",
   "metadata": {},
   "outputs": [
    {
     "name": "stdout",
     "output_type": "stream",
     "text": [
      "Multiple Modalities\n",
      "AUC for Training Set is: 0.8227016885553471\n",
      "AUC for Testing Set is: 0.75\n"
     ]
    }
   ],
   "source": [
    "print(\"Multiple Modalities\")\n",
    "auc_train, auc_test = run_model(data)"
   ]
  },
  {
   "cell_type": "code",
   "execution_count": 13,
   "id": "4fb3186a-82f2-47e1-b161-1d61eebc63fe",
   "metadata": {},
   "outputs": [
    {
     "name": "stdout",
     "output_type": "stream",
     "text": [
      "Tabular Data\n",
      "AUC for Training Set is: 0.940744215134459\n",
      "AUC for Testing Set is: 0.6085858585858587\n"
     ]
    }
   ],
   "source": [
    "print(\"Tabular Data\")\n",
    "tabular_data = get_data(subject_data_list, tabular = True, timeseries = False, signal = False, note = False, image = False)\n",
    "auc_train, auc_test = run_model(tabular_data)"
   ]
  },
  {
   "cell_type": "code",
   "execution_count": 14,
   "id": "005422ff-dc98-44f8-9ba7-933c5e21785a",
   "metadata": {},
   "outputs": [
    {
     "name": "stdout",
     "output_type": "stream",
     "text": [
      "TimeSeries Data\n",
      "AUC for Training Set is: 0.9122889305816135\n",
      "AUC for Testing Set is: 0.7095959595959596\n"
     ]
    }
   ],
   "source": [
    "print(\"TimeSeries Data\")\n",
    "timeseries_data = get_data(subject_data_list, tabular = False, timeseries = True, signal = False, note = False, image = False)\n",
    "auc_train, auc_test = run_model(timeseries_data)"
   ]
  },
  {
   "cell_type": "code",
   "execution_count": 15,
   "id": "f4ef7166-a1d0-4253-8329-c9b32cf3db1f",
   "metadata": {},
   "outputs": [
    {
     "name": "stdout",
     "output_type": "stream",
     "text": [
      "Signal Data\n",
      "AUC for Training Set is: 0.7547686053783615\n",
      "AUC for Testing Set is: 0.5959595959595959\n"
     ]
    }
   ],
   "source": [
    "print(\"Signal Data\")\n",
    "signal_data = get_data(subject_data_list, tabular = False, timeseries = False, signal = True, note = False, image = False)\n",
    "auc_train, auc_test = run_model(signal_data)"
   ]
  },
  {
   "cell_type": "code",
   "execution_count": 16,
   "id": "bbb9ba50-0e41-4bdb-9d48-334889891e7e",
   "metadata": {},
   "outputs": [
    {
     "name": "stdout",
     "output_type": "stream",
     "text": [
      "Note Data\n",
      "AUC for Training Set is: 0.8959505941213258\n",
      "AUC for Testing Set is: 0.601010101010101\n"
     ]
    }
   ],
   "source": [
    "print(\"Note Data\")\n",
    "note_data = get_data(subject_data_list, tabular = False, timeseries = False, signal = False, note = True, image = False)\n",
    "auc_train, auc_test = run_model(note_data)"
   ]
  },
  {
   "cell_type": "code",
   "execution_count": 17,
   "id": "e5b34a70-df35-4c56-801b-f2624f978d3f",
   "metadata": {},
   "outputs": [
    {
     "name": "stdout",
     "output_type": "stream",
     "text": [
      "Image Data\n",
      "AUC for Training Set is: 0.9409787367104441\n",
      "AUC for Testing Set is: 0.6363636363636364\n"
     ]
    }
   ],
   "source": [
    "print(\"Image Data\")\n",
    "image_data = get_data(subject_data_list, tabular = False, timeseries = False, signal = False, note = False, image = True)\n",
    "auc_train, auc_test = run_model(image_data)"
   ]
  }
 ],
 "metadata": {
  "kernelspec": {
   "display_name": "Python 3 (Spyder)",
   "language": "python3",
   "name": "python3"
  },
  "language_info": {
   "codemirror_mode": {
    "name": "ipython",
    "version": 3
   },
   "file_extension": ".py",
   "mimetype": "text/x-python",
   "name": "python",
   "nbconvert_exporter": "python",
   "pygments_lexer": "ipython3",
   "version": "3.11.4"
  }
 },
 "nbformat": 4,
 "nbformat_minor": 5
}
